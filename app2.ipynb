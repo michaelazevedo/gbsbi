{
 "cells": [
  {
   "cell_type": "code",
   "execution_count": null,
   "metadata": {},
   "outputs": [],
   "source": [
    "import pandas as pd\n",
    "\n",
    "df_dados = pd.read_csv(\"DEZEMBRO_2024.csv\")\n",
    "df_dados.head()\n",
    "\n"
   ]
  },
  {
   "cell_type": "code",
   "execution_count": 2,
   "metadata": {},
   "outputs": [
    {
     "name": "stderr",
     "output_type": "stream",
     "text": [
      "C:\\Users\\michael.azevedo\\AppData\\Local\\Temp\\ipykernel_21704\\35519753.py:4: DtypeWarning: Columns (8,9) have mixed types. Specify dtype option on import or set low_memory=False.\n",
      "  df_dados = pd.read_csv(\"DEZEMBRO_2024.csv\")\n"
     ]
    }
   ],
   "source": [
    "import pandas as pd\n",
    "\n",
    "# Carregar o arquivo CSV\n",
    "df_dados = pd.read_csv(\"DEZEMBRO_2024.csv\")\n",
    "\n",
    "# Converter TARIFA para numérico (removendo símbolos e formatando)\n",
    "df_dados[\"TARIFA\"] = df_dados[\"TARIFA\"].replace({\",\": \".\"}, regex=True).astype(float)\n",
    "\n",
    "# Converter PEDAGIO para numérico (removendo símbolos e formatando)\n",
    "df_dados[\"PEDAGIO\"] = df_dados[\"PEDAGIO\"].replace({\",\": \".\"}, regex=True).astype(float)\n",
    "\n",
    "# Soma de TARIFA + PEDAGIO por EMPRESA\n",
    "soma_tarifa = df_dados.groupby([\"EMPRESA\",\"ORGAO\"])[[\"TARIFA\", \"PEDAGIO\"]].sum().sum(axis=1)\n",
    "\n"
   ]
  }
 ],
 "metadata": {
  "kernelspec": {
   "display_name": "venv",
   "language": "python",
   "name": "python3"
  },
  "language_info": {
   "codemirror_mode": {
    "name": "ipython",
    "version": 3
   },
   "file_extension": ".py",
   "mimetype": "text/x-python",
   "name": "python",
   "nbconvert_exporter": "python",
   "pygments_lexer": "ipython3",
   "version": "3.12.8"
  }
 },
 "nbformat": 4,
 "nbformat_minor": 2
}
